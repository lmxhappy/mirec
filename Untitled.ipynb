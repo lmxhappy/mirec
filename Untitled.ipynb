{
 "cells": [
  {
   "cell_type": "code",
   "execution_count": 1,
   "metadata": {},
   "outputs": [],
   "source": [
    "import tensorflow as tf"
   ]
  },
  {
   "cell_type": "code",
   "execution_count": 3,
   "metadata": {},
   "outputs": [],
   "source": [
    "class TwoTowers:\n",
    "    def __init__(item_tower_layers=[128, 64, 32], user_tower_layers=[128, 64, 32], user_slot_num = 100, item_slot_num = 100, embed_size = 16, train_batch_size = 2048, regularizer_rate = 0.003):\n",
    "        self.item_tower_layers = item_tower_layers\n",
    "        self.user_tower_layers = user_tower_layers\n",
    "        self.user_slot_num = user_slot_num\n",
    "        self.user_input_size = self.user_slot_num*self.embed_size\n",
    "        \n",
    "        self.item_slot_num = item_slot_num\n",
    "        self.item_input_size = item_slot_num*self.embed_size\n",
    "        \n",
    "        self.embed_size = embed_size\n",
    "        self.train_batch_size = train_batch_size\n",
    "        self.regularizer_rate = regularizer_rate\n",
    "        \n",
    "        \n",
    "    def define_network():\n",
    "        with tf.name_scope(\"input\"):\n",
    "            x_u = tf.placeholder(tf.float32, shape=[self.train_batch_size, self.user_input_size])\n",
    "            x_i = tf.placeholder(tf.float32, shape=[self.train_batch_size, self.item_input_size])\n",
    "\n",
    "        with tf.variable_scope(\"item_network\"):\n",
    "            item_exp_out = x_i\n",
    "            for i, unit in enumerate(item_tower_layers):\n",
    "                # bias initializer用默认的初始化方法\n",
    "                item_exp_out = tf.layers.dense(inputs=item_exp_out, units=unit, activation=tf.nn.relu,\n",
    "                                                 kernel_regularizer=tf.contrib.layers.l2_regularizer(regularizer_rate),\n",
    "                                                 name=\"fullc_{}\".format(i),\n",
    "                                                 kernel_initializer=tf.glorot_uniform_initializer(seed=1))\n",
    "\n",
    "\n",
    "        with tf.variable_scope(\"user_network\"):\n",
    "            user_exp_out = x_u\n",
    "            for i, unit in enumerate(user_tower_layers):\n",
    "                # bias initializer用默认的初始化方法\n",
    "                user_exp_out = tf.layers.dense(inputs=user_exp_out, units=unit, activation=tf.nn.relu,\n",
    "                                                 kernel_regularizer=tf.contrib.layers.l2_regularizer(regularizer_rate),\n",
    "                                                 name=\"fullc_{}\".format(i),\n",
    "                                                 kernel_initializer=tf.glorot_uniform_initializer(seed=1))\n",
    "\n",
    "        self.out = tf.reduce_sum(item_exp_out * user_exp_out, axis=1)\n",
    "    \n",
    "        self.global_step = tf.Variable(0, trainable=False, name='global_step')\n",
    "      \n",
    "        self.train_op = tf.train.AdamOptimizer(learning_rate=self.lr).minimize(self.loss, global_step=self.global_step)\n",
    "        update_ops = tf.get_collection(tf.GraphKeys.UPDATE_OPS)\n",
    "        self.train_op = tf.group([self.train_op, update_ops])\n",
    "\n",
    "        # ===========这是与网络并列的另外一大块=========与loss/metrics相关的\n",
    "        with tf.variable_scope('metrics', reuse=None):\n",
    "            # 正好label是bool，与tf.metrics.auc的要求是一致的\n",
    "            # 这个方法引入了本网络唯一的4个local变量——FP、TP、FN、TN。\n",
    "            # The `auc` function creates four local variables, `true_positives`, `true_negatives`, `false_positives` and `false_negatives` that are used to compute the AUC.\n",
    "            # auc_update_op后续没有用到了\n",
    "            self.loss_auc_metric()"
   ]
  },
  {
   "cell_type": "code",
   "execution_count": 12,
   "metadata": {},
   "outputs": [
    {
     "name": "stdout",
     "output_type": "stream",
     "text": [
      "[0.75808096 1.4515822  0.8414975  ... 1.0453594  1.5985811  0.50953436]\n"
     ]
    }
   ],
   "source": [
    "init = tf.group(tf.global_variables_initializer(), tf.local_variables_initializer(), name=\"weidl_init\")\n",
    "\n",
    "# Start run\n",
    "with tf.Session() as sess:\n",
    "    sess.run(init)\n",
    "    tf.train.write_graph(sess.graph_def, \"./\", \"cgc_esmm_model.pb\", as_text=False)\n",
    "\n",
    "    writer = tf.summary.FileWriter('./improved_graph2', sess.graph)  # tf.summary.FileWriter返回一个FileWriter类，它有很多其他方法\n",
    "    import numpy as np\n",
    "\n",
    "    x_item_rand = np.random.rand(2048, item_slot_num*embed_size)#.astype(np.float32)\n",
    "    x_user_rand = np.random.rand(2048, user_slot_num*embed_size)#.astype(np.float32)\n",
    "\n",
    "#     print(tf.global_variables())\n",
    "#     print(tf.local_variables())\n",
    "\n",
    "    ops = tf.get_default_graph().get_operations()\n",
    "#     a,b = sess.run([item_exp_out, user_exp_out], feed_dict={x_i: x_item_rand, x_u: x_user_rand})\n",
    "#     print(a, b)\n",
    "    \n",
    "    local_scores = sess.run(scores, feed_dict={x_i: x_item_rand, x_u: x_user_rand})\n",
    "    print(local_scores)"
   ]
  },
  {
   "cell_type": "code",
   "execution_count": 5,
   "metadata": {},
   "outputs": [],
   "source": [
    "import numpy as np"
   ]
  },
  {
   "cell_type": "code",
   "execution_count": null,
   "metadata": {},
   "outputs": [],
   "source": [
    "np.random.rand"
   ]
  },
  {
   "cell_type": "code",
   "execution_count": 7,
   "metadata": {},
   "outputs": [
    {
     "data": {
      "text/plain": [
       "30"
      ]
     },
     "execution_count": 7,
     "metadata": {},
     "output_type": "execute_result"
    }
   ],
   "source": []
  },
  {
   "cell_type": "code",
   "execution_count": null,
   "metadata": {},
   "outputs": [],
   "source": [
    "'UId','ItemId','BrandId','MiddlesortId','ClickTime','Date'"
   ]
  },
  {
   "cell_type": "code",
   "execution_count": 8,
   "metadata": {},
   "outputs": [],
   "source": [
    "with open('a', 'w+') as f:\n",
    "    for i in range(10000):\n",
    "        uid = int(np.random.rand(1) * 1000)\n",
    "        ItemId = int(np.random.rand(1) * 1000)\n",
    "        BrandId = int(np.random.rand(1) * 100)\n",
    "        MiddlesortId = int(np.random.rand(1) * 100)\n",
    "        line = f'{uid}\\t{ItemId}\\t{BrandId}\\t{MiddlesortId}\\t1\\t2\\n'\n",
    "        f.write(line)"
   ]
  },
  {
   "cell_type": "code",
   "execution_count": null,
   "metadata": {},
   "outputs": [],
   "source": []
  }
 ],
 "metadata": {
  "kernelspec": {
   "display_name": "Python 3",
   "language": "python",
   "name": "python3"
  },
  "language_info": {
   "codemirror_mode": {
    "name": "ipython",
    "version": 3
   },
   "file_extension": ".py",
   "mimetype": "text/x-python",
   "name": "python",
   "nbconvert_exporter": "python",
   "pygments_lexer": "ipython3",
   "version": "3.7.7"
  }
 },
 "nbformat": 4,
 "nbformat_minor": 4
}
